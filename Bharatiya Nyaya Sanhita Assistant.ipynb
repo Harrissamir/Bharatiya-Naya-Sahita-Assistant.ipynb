{
 "cells": [
  {
   "cell_type": "code",
   "execution_count": 4,
   "id": "dd5f2828-9564-4743-8431-dee178b7ae06",
   "metadata": {},
   "outputs": [
    {
     "name": "stdout",
     "output_type": "stream",
     "text": [
      "Collecting pandas\n",
      "  Downloading pandas-2.2.3-cp313-cp313-win_amd64.whl.metadata (19 kB)\n",
      "Requirement already satisfied: numpy>=1.26.0 in e:\\python-vscode\\lib\\site-packages (from pandas) (2.2.3)\n",
      "Requirement already satisfied: python-dateutil>=2.8.2 in e:\\python-vscode\\lib\\site-packages (from pandas) (2.9.0.post0)\n",
      "Collecting pytz>=2020.1 (from pandas)\n",
      "  Downloading pytz-2025.2-py2.py3-none-any.whl.metadata (22 kB)\n",
      "Collecting tzdata>=2022.7 (from pandas)\n",
      "  Downloading tzdata-2025.2-py2.py3-none-any.whl.metadata (1.4 kB)\n",
      "Requirement already satisfied: six>=1.5 in e:\\python-vscode\\lib\\site-packages (from python-dateutil>=2.8.2->pandas) (1.17.0)\n",
      "Downloading pandas-2.2.3-cp313-cp313-win_amd64.whl (11.5 MB)\n",
      "   ---------------------------------------- 0.0/11.5 MB ? eta -:--:--\n",
      "   -- ------------------------------------- 0.8/11.5 MB 4.1 MB/s eta 0:00:03\n",
      "   ------ --------------------------------- 1.8/11.5 MB 5.2 MB/s eta 0:00:02\n",
      "   ---------- ----------------------------- 3.1/11.5 MB 5.3 MB/s eta 0:00:02\n",
      "   --------------- ------------------------ 4.5/11.5 MB 5.6 MB/s eta 0:00:02\n",
      "   --------------------- ------------------ 6.0/11.5 MB 5.8 MB/s eta 0:00:01\n",
      "   ------------------------ --------------- 7.1/11.5 MB 5.8 MB/s eta 0:00:01\n",
      "   ------------------------------ --------- 8.7/11.5 MB 5.9 MB/s eta 0:00:01\n",
      "   -------------------------------- ------- 9.4/11.5 MB 5.8 MB/s eta 0:00:01\n",
      "   ------------------------------------ --- 10.5/11.5 MB 5.7 MB/s eta 0:00:01\n",
      "   ---------------------------------------  11.3/11.5 MB 5.5 MB/s eta 0:00:01\n",
      "   ---------------------------------------- 11.5/11.5 MB 5.4 MB/s eta 0:00:00\n",
      "Downloading pytz-2025.2-py2.py3-none-any.whl (509 kB)\n",
      "Downloading tzdata-2025.2-py2.py3-none-any.whl (347 kB)\n",
      "Installing collected packages: pytz, tzdata, pandas\n",
      "Successfully installed pandas-2.2.3 pytz-2025.2 tzdata-2025.2\n"
     ]
    }
   ],
   "source": [
    "!pip install pandas\n",
    "import pandas as pd\n",
    "from IPython.display import display, Markdown\n",
    "\n",
    "# Load the dataset\n",
    "df = pd.read_csv(r\"C:\\Users\\samir\\OneDrive\\Desktop\\LLM\\Law Sheet - Sheet1.csv\")\n",
    "\n",
    "# Clean column names and strip whitespace\n",
    "df.columns = [col.strip() for col in df.columns]\n",
    "df = df.rename(columns={\"Illustration \": \"Illustration\"})\n",
    "\n",
    "# Helper to find section(s) by number or keyword\n",
    "def search_bns(query):\n",
    "    if query.lower().startswith(\"s. \"):  # direct section reference\n",
    "        results = df[df[\"Section\"].str.lower().str.contains(query.lower())]\n",
    "    else:  # keyword search across all textual fields\n",
    "        results = df[df.apply(lambda row: row.astype(str).str.contains(query, case=False, na=False).any(), axis=1)]\n",
    "    \n",
    "    if results.empty:\n",
    "        display(Markdown(\"**No matching results found. Try a different keyword or section.**\"))\n",
    "    else:\n",
    "        for _, row in results.iterrows():\n",
    "            display(Markdown(f\"\"\"\n",
    "### 🧾 Section {row['Section']} {f\"({row['Subsection']})\" if pd.notna(row['Subsection']) else \"\"}\n",
    "**Cause**: {row['Cause']}\n",
    "\n",
    "**Explanation**: {row['Explanation']}\n",
    "\n",
    "**Illustration**: {row['Illustration']}\n",
    "\n",
    "**Effect**: {row['Effect']}\n",
    "---\n",
    "\"\"\"))\n",
    "\n",
    "# Example usage:\n",
    "# search_bns(\"S. 3\")\n",
    "# search_bns(\"commutation\")\n",
    "# search_bns(\"punishment\")\n",
    "\n"
   ]
  },
  {
   "cell_type": "code",
   "execution_count": 5,
   "id": "8262605d-bdc9-477c-82df-a9b23f711448",
   "metadata": {},
   "outputs": [
    {
     "data": {
      "text/markdown": [
       "\n",
       "### 🧾 Section S. 32 (94)\n",
       "**Cause**: Act compelled by threats\n",
       "\n",
       "**Explanation**: Act done under threat of instant death, with no reasonable alternative\n",
       "\n",
       "**Illustration**: A person forced by dacoits to open a door for a robbery, under threat of death\n",
       "\n",
       "**Effect**: Protects individuals from liability for acts done under extreme duress (death threat), provided they did not put themselves in the situation willingly.\n",
       "---\n"
      ],
      "text/plain": [
       "<IPython.core.display.Markdown object>"
      ]
     },
     "metadata": {},
     "output_type": "display_data"
    },
    {
     "data": {
      "text/markdown": [
       "\n",
       "### 🧾 Section S. 320 (Fraudulent removal or concealment of property)\n",
       "**Cause**: Dishonestly or fraudulently removing or concealing property to prevent its distribution among creditors\n",
       "\n",
       "**Explanation**: Imprisonment of at least 6 months, up to 2 years, fine, or both\n",
       "\n",
       "**Illustration**: Non-cognizable, Bailable, Triable by Any Magistrate\n",
       "\n",
       "**Effect**: nan\n",
       "---\n"
      ],
      "text/plain": [
       "<IPython.core.display.Markdown object>"
      ]
     },
     "metadata": {},
     "output_type": "display_data"
    },
    {
     "data": {
      "text/markdown": [
       "\n",
       "### 🧾 Section S. 321 \n",
       "**Cause**: Dishonestly or fraudulently preventing a debt or demand from being made available for payment of debts\n",
       "\n",
       "**Explanation**: Preventing the lawful process of using a debt to pay debts\n",
       "\n",
       "**Illustration**: Hiding an owed amount required to pay off a debt, preventing a creditor from collecting it\n",
       "\n",
       "**Effect**: Punishable with imprisonment up to two years, a fine, or both\n",
       "---\n"
      ],
      "text/plain": [
       "<IPython.core.display.Markdown object>"
      ]
     },
     "metadata": {},
     "output_type": "display_data"
    },
    {
     "data": {
      "text/markdown": [
       "\n",
       "### 🧾 Section S. 322 \n",
       "**Cause**: Signing or becoming a party to a deed with a false statement about the consideration for a transfer\n",
       "\n",
       "**Explanation**: False representation of the consideration for a property transfer\n",
       "\n",
       "**Illustration**: Signing a property transfer deed with an inflated price to avoid tax\n",
       "\n",
       "**Effect**: Punishable with imprisonment up to three years, a fine, or both\n",
       "---\n"
      ],
      "text/plain": [
       "<IPython.core.display.Markdown object>"
      ]
     },
     "metadata": {},
     "output_type": "display_data"
    },
    {
     "data": {
      "text/markdown": [
       "\n",
       "### 🧾 Section S. 323 \n",
       "**Cause**: Dishonestly or fraudulently removing or concealing property belonging to oneself or another\n",
       "\n",
       "**Explanation**: Wrongful concealment or removal of property to avoid debts or legal claims\n",
       "\n",
       "**Illustration**: Hiding or removing assets to avoid creditors\n",
       "\n",
       "**Effect**: Punishable with imprisonment up to three years, a fine, or both\n",
       "---\n"
      ],
      "text/plain": [
       "<IPython.core.display.Markdown object>"
      ]
     },
     "metadata": {},
     "output_type": "display_data"
    },
    {
     "data": {
      "text/markdown": [
       "\n",
       "### 🧾 Section S. 324 \n",
       "**Cause**: Causing wrongful loss or damage to any property\n",
       "\n",
       "**Explanation**: Damaging or changing property in a way that causes harm\n",
       "\n",
       "**Illustration**: Burning a security or damaging crops intentionally\n",
       "\n",
       "**Effect**: Punishable with imprisonment from six months to five years, depending on the extent of damage, with fines\n",
       "---\n"
      ],
      "text/plain": [
       "<IPython.core.display.Markdown object>"
      ]
     },
     "metadata": {},
     "output_type": "display_data"
    },
    {
     "data": {
      "text/markdown": [
       "\n",
       "### 🧾 Section S. 325 \n",
       "**Cause**: Killing, poisoning, maiming, or rendering an animal useless\n",
       "\n",
       "**Explanation**: Harm done to an animal with intent to cause damage or destruction\n",
       "\n",
       "**Illustration**: Poisoning or maiming an animal\n",
       "\n",
       "**Effect**: Punishable with imprisonment up to five years, a fine, or both\n",
       "---\n"
      ],
      "text/plain": [
       "<IPython.core.display.Markdown object>"
      ]
     },
     "metadata": {},
     "output_type": "display_data"
    },
    {
     "data": {
      "text/markdown": [
       "\n",
       "### 🧾 Section S. 326 \n",
       "**Cause**: Mischief by injury, inundation, fire, or explosive substance\n",
       "\n",
       "**Explanation**: Various acts causing damage or disruption to public or private property, or dangerous acts involving fire/explosives\n",
       "\n",
       "**Illustration**: Damaging water supplies, obstructing public roads, or destroying landmarks\n",
       "\n",
       "**Effect**: Punishable with imprisonment of up to five years, fine, or both; in certain cases, imprisonment of up to 10 years, or life imprisonment with fine\n",
       "---\n"
      ],
      "text/plain": [
       "<IPython.core.display.Markdown object>"
      ]
     },
     "metadata": {},
     "output_type": "display_data"
    },
    {
     "data": {
      "text/markdown": [
       "\n",
       "### 🧾 Section S. 327 \n",
       "**Cause**: Mischief with intent to destroy or make unsafe rail, aircraft, or vessel\n",
       "\n",
       "**Explanation**: Causing damage to rail, aircraft, or large vessels intending to make them unsafe\n",
       "\n",
       "**Illustration**: Damaging a train or airplane to make it unsafe\n",
       "\n",
       "**Effect**: Punishable with imprisonment up to 10 years, or life imprisonment with fine\n",
       "---\n"
      ],
      "text/plain": [
       "<IPython.core.display.Markdown object>"
      ]
     },
     "metadata": {},
     "output_type": "display_data"
    },
    {
     "data": {
      "text/markdown": [
       "\n",
       "### 🧾 Section S. 328 \n",
       "**Cause**: Running a vessel aground or ashore to commit theft\n",
       "\n",
       "**Explanation**: Intentionally running a vessel aground to steal property\n",
       "\n",
       "**Illustration**: Running a ship aground to steal cargo\n",
       "\n",
       "**Effect**: Punishable with imprisonment of up to 10 years, fine, or both\n",
       "---\n"
      ],
      "text/plain": [
       "<IPython.core.display.Markdown object>"
      ]
     },
     "metadata": {},
     "output_type": "display_data"
    },
    {
     "data": {
      "text/markdown": [
       "\n",
       "### 🧾 Section S. 329 \n",
       "**Cause**: Criminal trespass and house-trespass\n",
       "\n",
       "**Explanation**: Entering property with intent to commit an offence or to intimidate or insult the person in possession\n",
       "\n",
       "**Illustration**: Entering a private property without permission\n",
       "\n",
       "**Effect**: Criminal trespass punishable with imprisonment up to three months, fine up to ₹5,000, or both; House-trespass punishable with imprisonment up to one year, fine up to ₹5,000, or both\n",
       "---\n"
      ],
      "text/plain": [
       "<IPython.core.display.Markdown object>"
      ]
     },
     "metadata": {},
     "output_type": "display_data"
    }
   ],
   "source": [
    "search_bns(\"S. 32\")"
   ]
  },
  {
   "cell_type": "code",
   "execution_count": null,
   "id": "a5f6d210-984b-4805-b967-2626fda05bc7",
   "metadata": {},
   "outputs": [],
   "source": []
  }
 ],
 "metadata": {
  "kernelspec": {
   "display_name": "Python 3 (ipykernel)",
   "language": "python",
   "name": "python3"
  },
  "language_info": {
   "codemirror_mode": {
    "name": "ipython",
    "version": 3
   },
   "file_extension": ".py",
   "mimetype": "text/x-python",
   "name": "python",
   "nbconvert_exporter": "python",
   "pygments_lexer": "ipython3",
   "version": "3.13.2"
  }
 },
 "nbformat": 4,
 "nbformat_minor": 5
}
